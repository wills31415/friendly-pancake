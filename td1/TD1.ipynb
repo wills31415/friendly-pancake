{
 "cells": [
  {
   "cell_type": "markdown",
   "id": "77827ae2-11d3-4abd-911e-1c36ccf436c2",
   "metadata": {
    "tags": []
   },
   "source": [
    "# TD 1 | Introduction à Python pour l'analyse de données\n",
    "\n",
    "---\n",
    "\n",
    "Objectifs du TD :\n",
    "\n",
    "* découvrir Python\n",
    "* se familiariser avec le langage et le notebook Jupyter\n",
    "* découvrir et maîtriser les bases des librairies de calcul numérique et d'analyse de données numpy et pandas\n",
    "\n",
    "---"
   ]
  },
  {
   "cell_type": "markdown",
   "id": "bad440b9-18a4-4b45-809d-df8d4009f3ff",
   "metadata": {
    "jp-MarkdownHeadingCollapsed": true,
    "tags": []
   },
   "source": [
    "##  Installation de Python et Jupyter"
   ]
  },
  {
   "cell_type": "markdown",
   "id": "052b229f-8f3a-4a46-8285-aa5ffd721c02",
   "metadata": {},
   "source": [
    "### Windows"
   ]
  },
  {
   "cell_type": "markdown",
   "id": "680cdce7-3be8-4b62-a670-66ba16407412",
   "metadata": {},
   "source": [
    "#### Installation Python"
   ]
  },
  {
   "cell_type": "markdown",
   "id": "e6b3a3c6-57f1-4d11-ae58-8d361881814b",
   "metadata": {},
   "source": [
    "Vérifiez si vous avez déjà une version de python installée en ouvrant l'invite de commande et en exécutant l'une des deux commandes python suivantes : \n",
    "> python --version   \n",
    "\n",
    "> python3 --version \n",
    "\n",
    "Si ce n'est pas le cas, vous pouvez procéder à l'installation comme suit :\n",
    " \n",
    "1. Allez sur le site web : https://www.python.org/downloads/windows/\n",
    "2. Cliquez sur \"Latest Python 3 Release - Python 3.10.7\".\n",
    "3. Si votre ordinateur utilise une version 64 bits de Windows, téléchargez le Windows installer (64-bit). Sinon, téléchargez Windows installer (32-bit).\n",
    "4. Après avoir téléchargé le Windows installer, vous devez l'exécuter (double-cliquez dessus) et suivre les instructions qui s'y trouvent.\n",
    "\n",
    "NB : Au début de l'installation, assurez-vous de cocher la case \"Add Python 3.10 to PATH\" ou \"Add Python to your environment variables\" avant de cliquer sur \"Install Now\".\n"
   ]
  },
  {
   "cell_type": "markdown",
   "id": "a0c71786-cf7a-4082-b26d-de236ac6d022",
   "metadata": {},
   "source": [
    "#### Installation Jupyter"
   ]
  },
  {
   "cell_type": "markdown",
   "id": "1ef7f2f9-8836-40a0-a5b6-1555ccd5ccad",
   "metadata": {},
   "source": [
    "Ouvrir l'invite de commande et exécuter la commande suivante en remplaçant Pseudo_de_votre_user par le nom de l'utilisateur de votre session : \n",
    "> cd \"C:\\Users\\Pseudo_de_votre_user\\AppData\\Local\\Programs\\Python\\Python310\\Scripts\"\n",
    "\n",
    "Ensuite, executer la commande suivante :\n",
    "> pip install jupyterlab\n",
    "\n",
    "Une fois l'installation terminée avec succès, vous pouvez lancer JupyterLab avec la commande suivante : \n",
    "> jupyter-lab\n"
   ]
  },
  {
   "cell_type": "markdown",
   "id": "1f18bb0b-a3e0-4147-adff-52137de24465",
   "metadata": {},
   "source": [
    "### Linux & Mac OS"
   ]
  },
  {
   "cell_type": "markdown",
   "id": "c6d0362e-d415-4946-9661-3790aaf46850",
   "metadata": {},
   "source": [
    "#### Installation Python"
   ]
  },
  {
   "cell_type": "markdown",
   "id": "054fa2f3-524d-4e43-ba52-a25f92566ae6",
   "metadata": {},
   "source": [
    "Normalement, Python est préinstallé sur la quasi-totalité des distributions. Vous n'avez pas besoin de le réinstaller, mais vous pouvez mettre à jour la version si vous le souhaitez.\n",
    "\n",
    "Vérifiez la version Python installée en exécutant l'une des deux commandes python suivantes sur votre terminal : \n",
    "> python --version   \n",
    "\n",
    "> python3 --version "
   ]
  },
  {
   "cell_type": "markdown",
   "id": "e234b9ae-f30b-4fde-9da6-2279277d4c1e",
   "metadata": {},
   "source": [
    "#### Installation Jupyter"
   ]
  },
  {
   "cell_type": "markdown",
   "id": "bfb4b748-f55f-4383-94ca-7337e7f8d25e",
   "metadata": {},
   "source": [
    "Vérifier que la commande pip3 est installée. Sinon, l'installer (exemple pour Debian/Ubuntu/Linux Mint, à adapter selon votre distribution) :\n",
    "\n",
    "> sudo apt install python3-pip\n",
    "\n",
    "Ensuite, installer JupyterLab en executant la commande suivante:\n",
    "> pip3 install -U jupyterlab\n",
    "\n",
    "Enfin, placez-vous dans votre dossier de travail et lancez un notebook :\n",
    "\n",
    "> jupyter-lab"
   ]
  },
  {
   "cell_type": "markdown",
   "id": "8cd7d902-7c1f-4c31-bb41-0ede4b4f4481",
   "metadata": {
    "tags": []
   },
   "source": [
    "## Syntaxe et Concepts de base"
   ]
  },
  {
   "cell_type": "code",
   "execution_count": null,
   "id": "0ee8dd39-7266-41a1-97b7-38a4f8afeb75",
   "metadata": {},
   "outputs": [],
   "source": [
    "a = 33\n",
    "b = 9\n",
    "c = 2.0"
   ]
  },
  {
   "cell_type": "code",
   "execution_count": null,
   "id": "3d194b33-77ab-40df-992b-dde6eec290c6",
   "metadata": {},
   "outputs": [],
   "source": [
    "a+b"
   ]
  },
  {
   "cell_type": "code",
   "execution_count": null,
   "id": "f5c7e24e-c8d9-4995-8e3b-82b52aa5e249",
   "metadata": {},
   "outputs": [],
   "source": [
    "print(a+b)"
   ]
  },
  {
   "cell_type": "code",
   "execution_count": null,
   "id": "7148b94b-4779-4037-a5c5-9cf80f91fed3",
   "metadata": {},
   "outputs": [],
   "source": [
    "type(a)"
   ]
  },
  {
   "cell_type": "code",
   "execution_count": null,
   "id": "b0eb2c18-eee8-4609-860b-021facfabc8e",
   "metadata": {},
   "outputs": [],
   "source": [
    "type(c)"
   ]
  },
  {
   "cell_type": "code",
   "execution_count": null,
   "id": "d3a788ce-fc30-48e7-add2-89c1950c1bfe",
   "metadata": {},
   "outputs": [],
   "source": [
    "a = 'hello'\n",
    "type(a)"
   ]
  },
  {
   "cell_type": "code",
   "execution_count": null,
   "id": "ae0eaa4f-9eb1-40bb-95ef-8152eba98c00",
   "metadata": {},
   "outputs": [],
   "source": [
    "# Affiche les entiers pairs de 1 à 10\n",
    "for i in range(1, 11):\n",
    "    if i % 2 == 0:\n",
    "        print(i)"
   ]
  },
  {
   "cell_type": "markdown",
   "id": "6fb92b5a-910f-44d0-8c1c-902425b24bdf",
   "metadata": {},
   "source": [
    "### List"
   ]
  },
  {
   "cell_type": "code",
   "execution_count": null,
   "id": "5c3a8a72-3737-4c72-bda2-af1fdfd5e015",
   "metadata": {},
   "outputs": [],
   "source": [
    "l = [1,2,3,4,4]"
   ]
  },
  {
   "cell_type": "markdown",
   "id": "b53eba5e-dc86-46c5-ad37-4fc08743839c",
   "metadata": {},
   "source": [
    "#### len, max, min"
   ]
  },
  {
   "cell_type": "code",
   "execution_count": null,
   "id": "f3645b14-5244-47c2-9601-0b2defe3bbec",
   "metadata": {},
   "outputs": [],
   "source": [
    "print('longueur de la liste =', len(l))\n",
    "print(\"Valeur max de l =\", max(l))\n",
    "print(\"Valeur min de l =\", min(l))"
   ]
  },
  {
   "cell_type": "markdown",
   "id": "c6a972ff-7ef0-4a5a-ba61-7ffef0c39ea3",
   "metadata": {},
   "source": [
    "#### Ajout d'un élément d'une liste"
   ]
  },
  {
   "cell_type": "code",
   "execution_count": null,
   "id": "fcf6650e-7979-43e7-8dba-8e8892e1dadc",
   "metadata": {},
   "outputs": [],
   "source": [
    "l.append(6)\n",
    "l"
   ]
  },
  {
   "cell_type": "code",
   "execution_count": null,
   "id": "3da51e13-280c-4f24-835e-5aa60d379ee4",
   "metadata": {},
   "outputs": [],
   "source": [
    "l = l+[7]\n",
    "l"
   ]
  },
  {
   "cell_type": "code",
   "execution_count": null,
   "id": "9be84535-c2a4-4392-aee3-ed4ab377a1f0",
   "metadata": {},
   "outputs": [],
   "source": [
    "l+=[7]\n",
    "l"
   ]
  },
  {
   "cell_type": "markdown",
   "id": "8eab9db9-840e-4d2c-b2d3-89ceedfc0939",
   "metadata": {},
   "source": [
    "#### Modifier un élément"
   ]
  },
  {
   "cell_type": "code",
   "execution_count": null,
   "id": "21c8b22d-c227-4b9e-81b4-b81946df5bfd",
   "metadata": {},
   "outputs": [],
   "source": [
    "l[0] = 29\n",
    "l"
   ]
  },
  {
   "cell_type": "code",
   "execution_count": null,
   "id": "b47b506b-8f32-4190-b652-c8b95c84510d",
   "metadata": {},
   "outputs": [],
   "source": [
    "l.insert(1,9)\n",
    "l"
   ]
  },
  {
   "cell_type": "markdown",
   "id": "99bc03d9-4c18-44e5-b0fb-ccdeeb16b24d",
   "metadata": {},
   "source": [
    "#### Suppression des éléments d'une liste"
   ]
  },
  {
   "cell_type": "code",
   "execution_count": null,
   "id": "15bfebe5-cdd6-443e-ba6c-b135381d400e",
   "metadata": {},
   "outputs": [],
   "source": [
    "l.remove(7)\n",
    "l"
   ]
  },
  {
   "cell_type": "code",
   "execution_count": null,
   "id": "5e65da05-40b2-4780-bdd8-7d74a625def2",
   "metadata": {},
   "outputs": [],
   "source": [
    "l.pop(2)\n",
    "l"
   ]
  },
  {
   "cell_type": "markdown",
   "id": "05a40f33-80eb-40db-92e6-da821bacff04",
   "metadata": {},
   "source": [
    "#### Trier une liste"
   ]
  },
  {
   "cell_type": "code",
   "execution_count": null,
   "id": "fb0bad2f-5d2a-449a-9212-cd1a2f531b1a",
   "metadata": {},
   "outputs": [],
   "source": [
    "l.sort(reverse=True)\n",
    "print(l)"
   ]
  },
  {
   "cell_type": "code",
   "execution_count": null,
   "id": "030e5309-6898-4dff-8ac5-0701d65849da",
   "metadata": {},
   "outputs": [],
   "source": [
    "l_sorted = sorted(l)\n",
    "print('Sorted list:', l_sorted)"
   ]
  },
  {
   "cell_type": "markdown",
   "id": "86b74b2c-b621-4fd4-9f41-16e8ea4bff2c",
   "metadata": {},
   "source": [
    "#### Liste non homogène"
   ]
  },
  {
   "cell_type": "code",
   "execution_count": null,
   "id": "a52cec2d-11f3-4383-ab50-c62aa1dc2257",
   "metadata": {},
   "outputs": [],
   "source": [
    "l = [1, 'un', 2]\n",
    "l.append('deux')\n",
    "l += [3, 'trois']\n",
    "print(type(l))\n",
    "l"
   ]
  },
  {
   "cell_type": "code",
   "execution_count": null,
   "id": "c237d423-0a57-4056-9077-7eeb8c321be4",
   "metadata": {},
   "outputs": [],
   "source": [
    "a = l[3], l[-1]\n",
    "print(type(a))\n",
    "a"
   ]
  },
  {
   "cell_type": "code",
   "execution_count": null,
   "id": "d6626821-592c-4d4f-adf2-c2acf7b155a0",
   "metadata": {},
   "outputs": [],
   "source": [
    "a[0]"
   ]
  },
  {
   "cell_type": "code",
   "execution_count": null,
   "id": "b00b9acf-847b-40af-9ad1-f0e7a27a6e3e",
   "metadata": {},
   "outputs": [],
   "source": [
    "[2**p for p in range(10)] # \"Compréhension de liste\""
   ]
  },
  {
   "cell_type": "code",
   "execution_count": null,
   "id": "946a4e8d-45d4-47d9-b500-1c2ae8624541",
   "metadata": {},
   "outputs": [],
   "source": [
    "# Liste des entiers pairs de 1 à 10\n",
    "l = [i for i in range(1, 11) if i % 2 == 0]\n",
    "print(l)"
   ]
  },
  {
   "cell_type": "markdown",
   "id": "51ed9059-e7a3-4864-96d9-8ecdd5f297c2",
   "metadata": {},
   "source": [
    "### Tuple"
   ]
  },
  {
   "cell_type": "code",
   "execution_count": null,
   "id": "d84aece0-87fb-4af0-adcb-bb66190d47cf",
   "metadata": {},
   "outputs": [],
   "source": [
    "p = tuple(range(1,5))\n",
    "print(\"p=\", p)\n",
    "print(\"p[0] = \", p[0])"
   ]
  },
  {
   "cell_type": "code",
   "execution_count": null,
   "id": "c752b6fe-28c7-44c5-9a55-8a336e4f8cf1",
   "metadata": {},
   "outputs": [],
   "source": [
    "p = ([1,2],5)\n",
    "\n",
    "print(p)\n",
    "\n",
    "p[0][0] = 8\n",
    "\n",
    "print(p)"
   ]
  },
  {
   "cell_type": "code",
   "execution_count": null,
   "id": "f06b05b8-7eeb-4bec-95c9-d2928b9bdd1d",
   "metadata": {},
   "outputs": [],
   "source": [
    "# Les éléments du tuple sont fixes\n",
    "p[0] = 6"
   ]
  },
  {
   "cell_type": "code",
   "execution_count": null,
   "id": "3ed9e289-25df-4697-92ae-47f0544f9609",
   "metadata": {},
   "outputs": [],
   "source": [
    "p1 = (1,2)\n",
    "p2 = (2,1)\n",
    "\n",
    "print(p1 == p2)"
   ]
  },
  {
   "cell_type": "markdown",
   "id": "a03da136-b600-4f8a-94a1-9243f97a2391",
   "metadata": {},
   "source": [
    "### Set"
   ]
  },
  {
   "cell_type": "code",
   "execution_count": null,
   "id": "71da9218-67a8-4746-8a87-fc36b93d957d",
   "metadata": {},
   "outputs": [],
   "source": [
    "s = set((1,2,'l'))\n",
    "print(s)\n",
    "\n",
    "s = {4,5,9,9,9,9}\n",
    "print(s)"
   ]
  },
  {
   "cell_type": "code",
   "execution_count": null,
   "id": "7469e205-4f7a-48b7-abd4-3bc7010b5bdc",
   "metadata": {},
   "outputs": [],
   "source": [
    "#Ajout d'un élément au set\n",
    "s.add(6)\n",
    "print(s)"
   ]
  },
  {
   "cell_type": "code",
   "execution_count": null,
   "id": "1d6a9fa6-1df3-45cc-9813-a9525bd93b35",
   "metadata": {},
   "outputs": [],
   "source": [
    "#Suppression d'un élément du set\n",
    "s.discard(5)\n",
    "print(s)"
   ]
  },
  {
   "cell_type": "code",
   "execution_count": null,
   "id": "9bf72333-377f-45aa-8200-dbc1423ef110",
   "metadata": {},
   "outputs": [],
   "source": [
    "s.clear()\n",
    "print(s)"
   ]
  },
  {
   "cell_type": "code",
   "execution_count": null,
   "id": "df41d914-39f5-4f0e-ad17-47bcf9add690",
   "metadata": {},
   "outputs": [],
   "source": [
    "A = {1,2,3,4,5}\n",
    "B = {2,4,6,7}\n",
    "C = {1,2,3}"
   ]
  },
  {
   "cell_type": "code",
   "execution_count": null,
   "id": "6a04b5cc-0ee2-4f10-8600-43ae082e3eb5",
   "metadata": {},
   "outputs": [],
   "source": [
    "#Intersection\n",
    "print(\"Intersection de A et B =\", A&B)\n",
    "\n",
    "#Union\n",
    "print(\"Union entre A et B =\", A|B)\n",
    "\n",
    "#Exclusion\n",
    "print(\"Exclusion de B de A =\", A-B)\n",
    "\n",
    "#Différence symétrique\n",
    "print(\"Diff sym. A et B =\", A^B)"
   ]
  },
  {
   "cell_type": "code",
   "execution_count": null,
   "id": "62436515-5142-463e-b939-b6f390549fb4",
   "metadata": {},
   "outputs": [],
   "source": [
    "print(\"B est inclus strict dans A\") if A>B else print(False)\n",
    "print(\"C est inclus dans A\") if A>=C else print(False)"
   ]
  },
  {
   "cell_type": "markdown",
   "id": "5c983f45-d7fc-4924-911b-13937c110a36",
   "metadata": {},
   "source": [
    "### Dictionary"
   ]
  },
  {
   "cell_type": "code",
   "execution_count": null,
   "id": "ffa8eb17-92e9-4cc9-8eea-418ca6bcf4a0",
   "metadata": {},
   "outputs": [],
   "source": [
    "# 1ère façon de créer un dictionnaire\n",
    "dic = {\"key1\": \"value1\", \"answer\": 42}\n",
    "# 2ème façon de créer un dictionnaire\n",
    "dic2 = dict(key1=\"value1\", answer=42)\n",
    "# 3ème façon de créer un dictionnaire\n",
    "dic3 = dict([(\"key1\",\"value1\"), (\"answer\",42)])\n",
    "print(dic)\n",
    "print(dic2)\n",
    "print(dic3)\n",
    "\n",
    "dic[\"answer\"]"
   ]
  },
  {
   "cell_type": "code",
   "execution_count": null,
   "id": "2061def3-6e50-4190-93a8-7b9634505493",
   "metadata": {},
   "outputs": [],
   "source": [
    "dic['new'] = [1,2,3]"
   ]
  },
  {
   "cell_type": "code",
   "execution_count": null,
   "id": "06693be1-378c-4bb0-9726-800dc7dce1b7",
   "metadata": {},
   "outputs": [],
   "source": [
    "dic.keys()"
   ]
  },
  {
   "cell_type": "code",
   "execution_count": null,
   "id": "f708db44-838b-4098-b2cf-bf2335c77fa2",
   "metadata": {},
   "outputs": [],
   "source": [
    "dic.items()"
   ]
  },
  {
   "cell_type": "code",
   "execution_count": null,
   "id": "a14b0c50-05d9-4523-8166-f5482fbb6106",
   "metadata": {},
   "outputs": [],
   "source": [
    "dic.values()"
   ]
  },
  {
   "cell_type": "code",
   "execution_count": null,
   "id": "be4c3770-e660-431f-8926-300c6f98d287",
   "metadata": {},
   "outputs": [],
   "source": [
    "a,b,c = dic.items()\n",
    "print(a)"
   ]
  },
  {
   "cell_type": "markdown",
   "id": "b137a9a6-60c8-4c00-9a6f-596183340d27",
   "metadata": {
    "tags": []
   },
   "source": [
    "## Programmation Orientée Objet"
   ]
  },
  {
   "cell_type": "code",
   "execution_count": null,
   "id": "66c1b630-ddd5-4d6b-bb66-6b2dfa496cf7",
   "metadata": {},
   "outputs": [],
   "source": [
    "\"\"\"\n",
    "Exemple de classe en Python\n",
    "\"\"\"\n",
    "class Moteur:\n",
    "    \n",
    "    # Constructeur\n",
    "    def __init__(self, esn, panne=False):\n",
    "        self.esn = esn\n",
    "        self.panne = panne\n",
    "    \n",
    "    # Méthodes\n",
    "    def dire_bonjour(self):\n",
    "        print('Bonjour, mon numéro de série est ' + self.esn)\n",
    "    \n",
    "    def fonctionne(self):\n",
    "        return not self.panne \n",
    "    "
   ]
  },
  {
   "cell_type": "code",
   "execution_count": null,
   "id": "20290517-9ab3-4bad-ab86-5bc72280cff1",
   "metadata": {},
   "outputs": [],
   "source": [
    "mot1 = Moteur('420912')\n",
    "mot2 = Moteur(panne=True, esn='420913')\n",
    "\n",
    "mot1.dire_bonjour()\n",
    "print(mot1.fonctionne())\n",
    "\n",
    "mot1.panne = True\n",
    "print(mot1.fonctionne())\n",
    "\n",
    "print('\\n')\n",
    "mot2.dire_bonjour()\n",
    "print(mot2.fonctionne())"
   ]
  },
  {
   "cell_type": "markdown",
   "id": "7425fc54-8c5f-49aa-a983-e0919eca56df",
   "metadata": {},
   "source": [
    "### Méthode récurcive vs Méthode itérative"
   ]
  },
  {
   "cell_type": "code",
   "execution_count": null,
   "id": "77888025-c0af-492e-b2e9-c23b00642b28",
   "metadata": {},
   "outputs": [],
   "source": [
    "# Méthode récursive\n",
    "def fact1(n):\n",
    "    if n == 0:\n",
    "        return 1\n",
    "    else:\n",
    "        return n*fact1(n-1)\n",
    "\n",
    "# Méthode itérative\n",
    "def fact2(n):\n",
    "    s=1\n",
    "    for i in range(1,n+1):\n",
    "        s*=i\n",
    "    return s\n",
    "\n",
    "print(fact1(5))\n",
    "print(fact2(5))"
   ]
  },
  {
   "cell_type": "code",
   "execution_count": null,
   "id": "af75da2d-f5d1-4841-add1-7714fb9d2084",
   "metadata": {},
   "outputs": [],
   "source": [
    "\"\"\"\n",
    "App.1 : Ecrire une fonction qui retourne le plus grand commun diviseur (pgcd) entre deux nombres a et b.\n",
    "\"\"\""
   ]
  },
  {
   "cell_type": "code",
   "execution_count": null,
   "id": "b0a390d4-c04d-4398-b9cd-2f85b836e263",
   "metadata": {},
   "outputs": [],
   "source": [
    "\"\"\"\n",
    "App.1 : Correction\n",
    "\"\"\"\n",
    "\n",
    "#Méthode itérative\n",
    "def pgcd1(a,b):\n",
    "    while (a%b) != 0:\n",
    "        s = a%b\n",
    "        a = b\n",
    "        b = s\n",
    "    return b\n",
    "\n",
    "\n",
    "#Méthode récurcive\n",
    "def pgcd2(a,b):\n",
    "    if a==b : return a \n",
    "    if a<b : a,b = b,a\n",
    "    return pgcd(a-b,b)\n",
    "\n",
    "a = 230\n",
    "b = 25\n",
    "\n",
    "print(\"pgcd1(a,b) = \", pgcd1(a,b))\n",
    "print(\"pgcd2(a,b) = \", pgcd2(a,b))"
   ]
  },
  {
   "cell_type": "markdown",
   "id": "335ef98a-5f95-453d-a6b7-2d199360e2cd",
   "metadata": {},
   "source": [
    "## Libraries"
   ]
  },
  {
   "cell_type": "markdown",
   "id": "34dce20e-1f94-45cb-93cc-db98c522919a",
   "metadata": {},
   "source": [
    "> pip install numpy pandas\n",
    "\n",
    "> pip3 install -U numpy pandas"
   ]
  },
  {
   "cell_type": "markdown",
   "id": "ee32799a-2dbd-479c-8a99-162522f1cbac",
   "metadata": {},
   "source": [
    "### Math"
   ]
  },
  {
   "cell_type": "code",
   "execution_count": null,
   "id": "27fe5f91-bd00-409b-9fbe-fb751723ad02",
   "metadata": {},
   "outputs": [],
   "source": [
    "import math"
   ]
  },
  {
   "cell_type": "code",
   "execution_count": null,
   "id": "641ce75e-83bb-4c75-901a-f46a85448d8e",
   "metadata": {},
   "outputs": [],
   "source": [
    "x = 4\n",
    "\n",
    "print(\"sqrt(x) =\", math.sqrt(x))\n",
    "print(\"cos(x) =\", math.cos(x))\n",
    "print(\"sin(x) =\", math.sin(x))\n",
    "print(\"factorial(x) =\", math.factorial(x))"
   ]
  },
  {
   "cell_type": "markdown",
   "id": "45942361-083f-4c23-a100-d7f3a0877423",
   "metadata": {
    "tags": []
   },
   "source": [
    "### Numpy"
   ]
  },
  {
   "cell_type": "code",
   "execution_count": null,
   "id": "aa7544d7-61c4-4aae-a6a5-496a157941b4",
   "metadata": {},
   "outputs": [],
   "source": [
    "import numpy as np"
   ]
  },
  {
   "cell_type": "code",
   "execution_count": null,
   "id": "3eb41dca-dcfc-45e5-8c39-ce317121a912",
   "metadata": {},
   "outputs": [],
   "source": [
    "# Création d'un array à partir d'une liste\n",
    "v = np.array([1.0, 2.0, 3.0])\n",
    "# Création d'un array de taille (n,m) initialisé à 0\n",
    "z = np.zeros((3,4))\n",
    "z"
   ]
  },
  {
   "cell_type": "code",
   "execution_count": null,
   "id": "ac7cdabb-3591-4b7a-b308-192a0624cc11",
   "metadata": {},
   "outputs": [],
   "source": [
    "# Taille d'un array\n",
    "print(z.shape)\n",
    "print(v.shape)"
   ]
  },
  {
   "cell_type": "code",
   "execution_count": null,
   "id": "b4b8b030-ab39-40be-9c6c-d0ba78ddb971",
   "metadata": {},
   "outputs": [],
   "source": [
    "# Opérations courantes\n",
    "A = np.ones((3,3)) + np.eye(3)\n",
    "print('A = ', A)\n",
    "print('Av = ', np.dot(A,v))\n",
    "print('3*A = ', 3*A)\n",
    "print('A*v = ', A*v)\n",
    "print('A + 1 = ', A+1)\n",
    "print('A + v = ', A+v)\n",
    "print('A^2 = ', np.square(A))"
   ]
  },
  {
   "cell_type": "code",
   "execution_count": null,
   "id": "22507d09-f213-40c4-9328-2acefcaac78e",
   "metadata": {},
   "outputs": [],
   "source": [
    "B = np.array([5, 2, 9, 1])\n",
    "\n",
    "print(np.sort(B))"
   ]
  },
  {
   "cell_type": "markdown",
   "id": "0393ae0a-4841-49fa-a19d-fd79b16707c1",
   "metadata": {},
   "source": [
    "#### Compatif de performance : produit matriciel\n"
   ]
  },
  {
   "cell_type": "code",
   "execution_count": null,
   "id": "2cc82968-354a-4065-b039-ff50d852ef38",
   "metadata": {},
   "outputs": [],
   "source": [
    "import random"
   ]
  },
  {
   "cell_type": "code",
   "execution_count": null,
   "id": "555a2783-9d39-4fa0-820c-d05395a42863",
   "metadata": {},
   "outputs": [],
   "source": [
    "# Création d'une matrice aléatoire sous forme de liste de listes\n",
    "taille = 2\n",
    "A = [[random.random() for _ in range(taille)] for _ in range(taille)]"
   ]
  },
  {
   "cell_type": "code",
   "execution_count": null,
   "id": "a9a0ed33-f5b1-4be9-afb0-2cd03a554b14",
   "metadata": {},
   "outputs": [],
   "source": [
    "print(A)"
   ]
  },
  {
   "cell_type": "code",
   "execution_count": null,
   "id": "d0a7c16c-d2ba-4ece-ba30-39a90fcf3539",
   "metadata": {},
   "outputs": [],
   "source": [
    "\"\"\"\n",
    "EXERCICE - Afficher un tuple contenant les dimensions de la matrice A\n",
    "\"\"\"\n",
    "raise NotImplementedError"
   ]
  },
  {
   "cell_type": "markdown",
   "id": "98f2a7f1-113f-4757-8706-166b163d65ce",
   "metadata": {},
   "source": [
    "$$ (AB)_{ij} = \\sum_k A_{ik} B_{kj} $$"
   ]
  },
  {
   "cell_type": "code",
   "execution_count": null,
   "id": "8a80f0bb-5f31-4471-ae47-3886decff6ac",
   "metadata": {},
   "outputs": [],
   "source": [
    "\"\"\"\n",
    "EXERCICE - Implémenter le produit matriciel de 2 matrices sous forme de listes de listes python\n",
    "\"\"\"\n",
    "raise NotImplementedError"
   ]
  },
  {
   "cell_type": "code",
   "execution_count": null,
   "id": "b4557582-a050-42a4-8001-5225e5a30d7f",
   "metadata": {},
   "outputs": [],
   "source": [
    "# Vérification\n",
    "assert(produit([[1, 2], [3, 4]], [[1, 2], [3, 4]]) == [[7, 10], [15, 22]])"
   ]
  },
  {
   "cell_type": "code",
   "execution_count": null,
   "id": "a04cfaef-513c-41a4-ae6e-8a9aee4a6cca",
   "metadata": {},
   "outputs": [],
   "source": [
    "produit(A, A)"
   ]
  },
  {
   "cell_type": "code",
   "execution_count": null,
   "id": "27645edc-c5ed-4c42-90ad-bbea79ee4979",
   "metadata": {},
   "outputs": [],
   "source": [
    "# Sortons le chronomètre\n",
    "%timeit produit(A, A)"
   ]
  },
  {
   "cell_type": "code",
   "execution_count": null,
   "id": "5658e3cc-5ad1-459d-b18d-dece00e03da0",
   "metadata": {},
   "outputs": [],
   "source": [
    "# Et maintenant, avec numpy !\n",
    "import numpy as np"
   ]
  },
  {
   "cell_type": "code",
   "execution_count": null,
   "id": "39003f54-3a1b-4df2-a68e-6e0bb54e2468",
   "metadata": {},
   "outputs": [],
   "source": [
    "A2 = np.array(A)\n",
    "print(A2)"
   ]
  },
  {
   "cell_type": "code",
   "execution_count": null,
   "id": "d4abaf47-4059-4e35-83e8-7ee9673c2e2e",
   "metadata": {},
   "outputs": [],
   "source": [
    "%timeit np.dot(A, A)"
   ]
  },
  {
   "cell_type": "markdown",
   "id": "79928725-48a4-4dd2-ae50-99783ed90d87",
   "metadata": {},
   "source": [
    "EXERCICE - Remplissez le tableau suivant avec les durées d'exécution constatées :\n",
    "\n",
    "(Conseil : pour la taille 3000, essayez UNIQUEMENT avec numpy)\n",
    "\n",
    "Taille | Python | numpy\n",
    "-------|--------|-------\n",
    "30     | XXX    | XXX\n",
    "300    | XXX    | XXX\n",
    "3000   | XXX    | XXX "
   ]
  },
  {
   "cell_type": "markdown",
   "id": "f83a4e6a-95b0-46fa-8109-10765c3997f1",
   "metadata": {},
   "source": [
    "###  Pandas"
   ]
  },
  {
   "cell_type": "code",
   "execution_count": null,
   "id": "9f767f8d-333c-41ff-b5ed-45b840466af9",
   "metadata": {},
   "outputs": [],
   "source": [
    "import pandas as pd"
   ]
  },
  {
   "cell_type": "code",
   "execution_count": null,
   "id": "7ea3ab2b-4c8c-4217-99ab-8135a7ba08b7",
   "metadata": {},
   "outputs": [],
   "source": [
    "df_exemple = pd.DataFrame({\"ESN\": [\"E420912\", \"E420913\", \"E420914\"], \"panne\": [False, False, True]})\n",
    "df_exemple"
   ]
  },
  {
   "cell_type": "markdown",
   "id": "3eaef54e-f9f2-486d-8e11-4519680a764b",
   "metadata": {},
   "source": [
    "#### Lecture et prétraitement de données\n"
   ]
  },
  {
   "cell_type": "code",
   "execution_count": null,
   "id": "ad2c6594-9610-49c7-bf08-81f64d718d63",
   "metadata": {},
   "outputs": [],
   "source": [
    "!git clone https://github.com/MadaneA/MACS3-Statistiques-Descriptives-TDs.git"
   ]
  },
  {
   "cell_type": "code",
   "execution_count": null,
   "id": "485f489e-365c-4abc-ae1c-223e921b8123",
   "metadata": {},
   "outputs": [],
   "source": [
    "import os\n",
    "os.chdir('MACS3-Statistiques-Descriptives-TDs')"
   ]
  },
  {
   "cell_type": "code",
   "execution_count": null,
   "id": "ee2386c9",
   "metadata": {},
   "outputs": [],
   "source": [
    " os.getcwd()"
   ]
  },
  {
   "cell_type": "code",
   "execution_count": null,
   "id": "78c64597-73b2-443c-b0cf-aa2989f6ef8d",
   "metadata": {},
   "outputs": [],
   "source": [
    "# Chargement d'un fichier CSV ou Excel\n",
    "df = pd.read_csv(\"./data/Vol010.csv\")\n",
    "# Affichage des 5 premières lignes\n",
    "df.head()"
   ]
  },
  {
   "cell_type": "code",
   "execution_count": null,
   "id": "eb4f6d36-3859-4e29-bf52-2b22a1315450",
   "metadata": {},
   "outputs": [],
   "source": [
    "\"\"\"\n",
    "EXERCICE - Dimensions d'un DataFrame\n",
    "Affichez le nombre de colonnes et de ligne du DataFrame (indice : beaucoup de méthodes sont communes entre numpy et pandas)\n",
    "\"\"\"\n",
    "raise NotImplementedError\n",
    "print('Nombre de colonnes :', )\n",
    "print('Nombre de lignes :', )"
   ]
  },
  {
   "cell_type": "code",
   "execution_count": null,
   "id": "750285eb-c7a4-4add-a456-ca7dba6da8d3",
   "metadata": {},
   "outputs": [],
   "source": [
    "df.size, len(df)"
   ]
  },
  {
   "cell_type": "code",
   "execution_count": null,
   "id": "7a84eae1-7967-4fcb-8ea3-6b75a4114c44",
   "metadata": {},
   "outputs": [],
   "source": [
    "df.columns"
   ]
  },
  {
   "cell_type": "markdown",
   "id": "b6d406bd-7963-48c0-b02a-a072a091ca10",
   "metadata": {},
   "source": [
    "Les colonnes des DF sont typées, à la manière d'une base de données relationnelle, contrairement aux variables python classiques. Les types des colonnes sont accessibles via df.dtypes. Les principaux types sont les numériques (int32, int64, float etc."
   ]
  },
  {
   "cell_type": "code",
   "execution_count": null,
   "id": "ab0b2e8b-c7f1-40dd-855c-150d726370d3",
   "metadata": {},
   "outputs": [],
   "source": [
    "df.loc[10:15, ['EGT_SEL', 'FLIGHT_MOD']]"
   ]
  },
  {
   "cell_type": "code",
   "execution_count": null,
   "id": "619de1e5-3826-457a-8f28-fde87421ad19",
   "metadata": {},
   "outputs": [],
   "source": [
    "\"\"\"\n",
    "EXERCICE - Extraction et suppression des unités\n",
    "On remarque que la 1ère ligne ne contient pas de données mais les unités de chaque colonne.\n",
    "Pour la suite des traitements, il faut supprimer cette ligne. On souhaite toutefois garder l'information des unités de chaque colonne.\n",
    "1. Récupérez les unités et stockez les dans une structure adaptée.\n",
    "2. Supprimez cette ligne du DataFrame en utilisant la méthode \"drop\"\n",
    "\"\"\"\n",
    "raise NotImplementedError"
   ]
  },
  {
   "cell_type": "code",
   "execution_count": null,
   "id": "553b87e6-f67a-4016-9501-c2f045a5ba2a",
   "metadata": {},
   "outputs": [],
   "source": [
    "print(units)\n",
    "df.head()"
   ]
  },
  {
   "cell_type": "markdown",
   "id": "9c7c08a2-0f12-4440-a3c7-90b810db37bb",
   "metadata": {},
   "source": [
    "On remarque que toutes les colonnes ont été reconnues comme de type object, c'est-à-dire des chaînes de caractères, alors que ce sont des valeurs numériques. Cela est dû à la première ligne contenant les unités. Il faut donc convertir les colonnes en numérique. La colonne 't', quant à elle, doit être convertie en type datetime."
   ]
  },
  {
   "cell_type": "code",
   "execution_count": null,
   "id": "706a5be1-6b26-4380-a13e-7bad5976fcef",
   "metadata": {},
   "outputs": [],
   "source": [
    "df['t'] = pd.to_datetime(df['t'])\n",
    "df[df.columns[1:]] = df[df.columns[1:]].apply(pd.to_numeric)"
   ]
  },
  {
   "cell_type": "code",
   "execution_count": null,
   "id": "2059e765-a56f-4f6a-992a-f4d98de33b5e",
   "metadata": {},
   "outputs": [],
   "source": [
    "df.dtypes"
   ]
  },
  {
   "cell_type": "code",
   "execution_count": null,
   "id": "bd1beef0-c421-4fca-96b7-139ee5826d98",
   "metadata": {},
   "outputs": [],
   "source": [
    "\"\"\"\n",
    "Exercice - Index temporel\n",
    "Comme nos données sont une série temporelle multivariée, on souhaite utiliser un index temporel.\n",
    "1. Créez une copie de df, appelée df2, à l'aide de la méthode du même nom.\n",
    "2. Affectez la colonne du temps ('t') en tant qu'indice du DataFrame.\n",
    "3. Supprimez la colonne 't' du DF résultant.\n",
    "\"\"\"\n",
    "raise NotImplementedError"
   ]
  },
  {
   "cell_type": "markdown",
   "id": "530e705f-fdd8-4e57-8722-1422776e66df",
   "metadata": {},
   "source": [
    "On constate que pandas a automatiquement reconnu un DatetimeIndex, adapté pour des manipulations de séries temporelles (moyennes glissantes, etc) !"
   ]
  },
  {
   "cell_type": "markdown",
   "id": "43c8c918-2fde-4d9b-937f-451a5aeaabcc",
   "metadata": {},
   "source": [
    "### Valeurs manquantes\n",
    "\n",
    "**NaN = Not a Number**\n",
    "\n",
    "Les valeurs NaN doivent être éliminées ou imputées (i.e. remplacées par une certaine valeur) avant la suite des traitements. Ce choix dépend du cas d'usage. Dans un premier temps, nous allons apprendre à :\n",
    "\n",
    "* trouver les données manquantes (méthode `isna`)\n",
    "* éliminer les données manquantes d'un DataFrame (méthode `dropna`)\n",
    "* les remplacer par une constante (méthode (`fillna`)"
   ]
  },
  {
   "cell_type": "code",
   "execution_count": null,
   "id": "3deacff6-4491-408c-bf15-8ae3da78f2c2",
   "metadata": {},
   "outputs": [],
   "source": [
    "\"\"\"\n",
    "EXERCICE - La méthode isna\n",
    "1. Testez la méthode isna sur le DataFrame df2, puis sur une colonne ou une ligne. Que renvoie-t-elle ?\n",
    "2. En appliquant les méthodes any(axis=...), mean() et max()/idxmax() sur les résultats de isna(), répondez aux questions suivantes :\n",
    "    2.1 Quelles colonnes contiennent des valeurs manquantes, lesquelles n'en contiennent pas ?\n",
    "    2.2 Quel est le pourcentage de valeurs manquantes dans le DF (a) par colonne (b) globalement ? Quelle variable contient le plus de NaN ?\n",
    "    2.3 Quel est le pourcentage d'indices du DF pour lesquels toutes les variables sont présentes ?\n",
    "\"\"\"\n",
    "print('Question 2.1')\n",
    "raise NotImplementedError\n",
    "print('Question 2.2')\n",
    "raise NotImplementedError\n",
    "print('Question 2.3')\n",
    "raise NotImplementedError"
   ]
  },
  {
   "cell_type": "code",
   "execution_count": null,
   "id": "2b24c3a9-6cbc-4c11-93d3-5d6a5e5b0b3f",
   "metadata": {},
   "outputs": [],
   "source": [
    "\"\"\"\n",
    "EXERCICE - La méthode dropna\n",
    "La méthode dropna permet d'éliminer les valeurs manquantes (NaN). Lisez d'abord sa documentation.\n",
    "1. À quoi correspondent les arguments \"axis\" et \"how\" ?\n",
    "2. Éliminez toutes les lignes contenant uniquement des valeurs manquantes.\n",
    "3. Éliminez toutes les lignes contenant au moins une valeur manquante. Combien y a-t-il de lignes de différence ?\n",
    "4. Éliminez toutes les colonnes contenant au moins une valeur manquante.\n",
    "\"\"\"\n",
    "raise NotImplementedError"
   ]
  },
  {
   "cell_type": "code",
   "execution_count": null,
   "id": "27ad1ce1-8659-4f37-b370-91da31eb2580",
   "metadata": {},
   "outputs": [],
   "source": [
    "\"\"\"\n",
    "EXERCICE - La méthode fillna\n",
    "La méthode dropna permet d'imputer les valeurs manquantes (NaN). Lisez d'abord sa documentation.\n",
    "1. Quelles sont les différentes stratégies de remplissage des valeurs manquantes ?\n",
    "2. Imputez les valeurs manquantes de la colonne age du DF donné en exemple par :\n",
    "    - 0\n",
    "    - la dernière valeur précédente/suivante valide\n",
    "    - la moyenne\n",
    "    - la valeur la plus courante (mode)\n",
    "3. Quel est le meilleur choix dans ce cas ? Et pour le cas d'une variable temporelle, par exemple la température 'EGT_SEL' de notre jeu de données ?\n",
    "\"\"\"\n",
    "exemple = pd.DataFrame({'nom': ['Alice', 'Bob', 'Charlie', 'David'], 'age': [24, pd.np.nan, 99, 24]})\n",
    "\n",
    "raise NotImplementedError"
   ]
  },
  {
   "cell_type": "markdown",
   "id": "b5d55345-2d7d-47b5-889c-7ba241902090",
   "metadata": {},
   "source": [
    "## Git"
   ]
  },
  {
   "cell_type": "markdown",
   "id": "330b3ba5-1c43-4f7c-91a4-b23910d25b24",
   "metadata": {},
   "source": [
    "Créer un compte GitHub : https://github.com/\n",
    "\n",
    "Créer un nouveau repository :\n",
    "1. Sélectionner \"Nouveau dépôt\" dans le menu déroulant avec le signe +. \n",
    "2. Saisisser un nom pour votre dépôt (par exemple, \"TDs statistiques descriptives\") \n",
    "3. Cliquer sur \"Créer un dépôt\". Ne vous souciez pas des autres options.\n",
    "\n",
    "\n",
    "\n",
    "Télécharger Git Bash : https://git-scm.com/downloads\n",
    "\n",
    "Sur Git Bash, positionnez-vous dans le répertoire où votre projet figure.\n",
    "\n",
    "Ensuite\n",
    "\n",
    "> git init\n",
    "\n",
    "> git remote add origin https://github.com/********\n",
    "\n",
    "> git add .\n",
    "\n",
    "> git commit -m \"Ajout du TD1\"\n",
    "\n",
    "> git push origin master\n",
    "\n",
    "C'est tout ! Vous avez créé votre repo GitHub ! "
   ]
  }
 ],
 "metadata": {
  "environment": {
   "kernel": "python3",
   "name": "pytorch-gpu.1-11.m93",
   "type": "gcloud",
   "uri": "gcr.io/deeplearning-platform-release/pytorch-gpu.1-11:m93"
  },
  "kernelspec": {
   "display_name": "Python 3 (ipykernel)",
   "language": "python",
   "name": "python3"
  },
  "language_info": {
   "codemirror_mode": {
    "name": "ipython",
    "version": 3
   },
   "file_extension": ".py",
   "mimetype": "text/x-python",
   "name": "python",
   "nbconvert_exporter": "python",
   "pygments_lexer": "ipython3",
   "version": "3.9.8"
  }
 },
 "nbformat": 4,
 "nbformat_minor": 5
}
